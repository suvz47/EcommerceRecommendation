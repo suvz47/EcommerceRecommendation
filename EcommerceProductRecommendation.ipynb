{
  "nbformat": 4,
  "nbformat_minor": 0,
  "metadata": {
    "colab": {
      "name": "EcommerceProductRecommendation.ipynb",
      "provenance": [],
      "collapsed_sections": [],
      "authorship_tag": "ABX9TyMO35D52RumJjLC35JrYSui"
    },
    "kernelspec": {
      "name": "python3",
      "display_name": "Python 3"
    },
    "language_info": {
      "name": "python"
    }
  },
  "cells": [
    {
      "cell_type": "markdown",
      "metadata": {
        "id": "mlb1t1vfL8UW"
      },
      "source": [
        "###**Recommend Ecommerce Products - **\n",
        "\n",
        "**Type 1:** Model-based collaborative filtering system based on customer's purchase history and ratings provided by other users who bought items similar items\n",
        "\n",
        "**Type 2:** When a business is setting up its e-commerce website for the first time withou any product rating"
      ]
    },
    {
      "cell_type": "code",
      "metadata": {
        "id": "yQ2PqxEDL5MJ"
      },
      "source": [
        "#imports\n",
        "import numpy as np\n",
        "import pandas as pd\n",
        "import matplotlib.pyplot as plt\n",
        "\n",
        "# %matplotlib inline\n",
        "plt.style.use(\"ggplot\")\n",
        "\n",
        "import sklearn\n",
        "from sklearn.decomposition import TruncatedSVD\n",
        "\n",
        "from sklearn.feature_extraction.text import TfidfVectorizer, CountVectorizer\n",
        "from sklearn.neighbors import NearestNeighbors\n",
        "from sklearn.cluster import KMeans\n",
        "from sklearn.metrics import adjusted_rand_score"
      ],
      "execution_count": 19,
      "outputs": []
    },
    {
      "cell_type": "markdown",
      "metadata": {
        "id": "K1XIdl4uMAbF"
      },
      "source": [
        "Loading the rating dataset"
      ]
    },
    {
      "cell_type": "code",
      "metadata": {
        "colab": {
          "base_uri": "https://localhost:8080/",
          "height": 206
        },
        "id": "trCQbtScMAkU",
        "outputId": "907804b0-7fd9-414f-a850-4d5b61a821e2"
      },
      "source": [
        "amazon_ratings = pd.read_csv('./data/ratings.csv')\n",
        "amazon_ratings = amazon_ratings.dropna()\n",
        "amazon_ratings.head()"
      ],
      "execution_count": 20,
      "outputs": [
        {
          "output_type": "execute_result",
          "data": {
            "text/html": [
              "<div>\n",
              "<style scoped>\n",
              "    .dataframe tbody tr th:only-of-type {\n",
              "        vertical-align: middle;\n",
              "    }\n",
              "\n",
              "    .dataframe tbody tr th {\n",
              "        vertical-align: top;\n",
              "    }\n",
              "\n",
              "    .dataframe thead th {\n",
              "        text-align: right;\n",
              "    }\n",
              "</style>\n",
              "<table border=\"1\" class=\"dataframe\">\n",
              "  <thead>\n",
              "    <tr style=\"text-align: right;\">\n",
              "      <th></th>\n",
              "      <th>UserId</th>\n",
              "      <th>ProductId</th>\n",
              "      <th>Rating</th>\n",
              "      <th>Timestamp</th>\n",
              "    </tr>\n",
              "  </thead>\n",
              "  <tbody>\n",
              "    <tr>\n",
              "      <th>0</th>\n",
              "      <td>A39HTATAQ9V7YF</td>\n",
              "      <td>0205616461</td>\n",
              "      <td>5.0</td>\n",
              "      <td>1369699200</td>\n",
              "    </tr>\n",
              "    <tr>\n",
              "      <th>1</th>\n",
              "      <td>A3JM6GV9MNOF9X</td>\n",
              "      <td>0558925278</td>\n",
              "      <td>3.0</td>\n",
              "      <td>1355443200</td>\n",
              "    </tr>\n",
              "    <tr>\n",
              "      <th>2</th>\n",
              "      <td>A1Z513UWSAAO0F</td>\n",
              "      <td>0558925278</td>\n",
              "      <td>5.0</td>\n",
              "      <td>1404691200</td>\n",
              "    </tr>\n",
              "    <tr>\n",
              "      <th>3</th>\n",
              "      <td>A1WMRR494NWEWV</td>\n",
              "      <td>0733001998</td>\n",
              "      <td>4.0</td>\n",
              "      <td>1382572800</td>\n",
              "    </tr>\n",
              "    <tr>\n",
              "      <th>4</th>\n",
              "      <td>A3IAAVS479H7M7</td>\n",
              "      <td>0737104473</td>\n",
              "      <td>1.0</td>\n",
              "      <td>1274227200</td>\n",
              "    </tr>\n",
              "  </tbody>\n",
              "</table>\n",
              "</div>"
            ],
            "text/plain": [
              "           UserId   ProductId  Rating   Timestamp\n",
              "0  A39HTATAQ9V7YF  0205616461     5.0  1369699200\n",
              "1  A3JM6GV9MNOF9X  0558925278     3.0  1355443200\n",
              "2  A1Z513UWSAAO0F  0558925278     5.0  1404691200\n",
              "3  A1WMRR494NWEWV  0733001998     4.0  1382572800\n",
              "4  A3IAAVS479H7M7  0737104473     1.0  1274227200"
            ]
          },
          "metadata": {},
          "execution_count": 20
        }
      ]
    },
    {
      "cell_type": "markdown",
      "metadata": {
        "id": "jZK2DIZyMisj"
      },
      "source": [
        "Checking the shape of the dataframe"
      ]
    },
    {
      "cell_type": "code",
      "metadata": {
        "colab": {
          "base_uri": "https://localhost:8080/"
        },
        "id": "WhVYl3XzMizE",
        "outputId": "5df29f6c-3ecc-41c0-d9a6-cf2c631f75bb"
      },
      "source": [
        "amazon_ratings.shape"
      ],
      "execution_count": 21,
      "outputs": [
        {
          "output_type": "execute_result",
          "data": {
            "text/plain": [
              "(2023070, 4)"
            ]
          },
          "metadata": {},
          "execution_count": 21
        }
      ]
    },
    {
      "cell_type": "markdown",
      "metadata": {
        "id": "jBG2dShtMlvm"
      },
      "source": [
        "Grouping the products by product id"
      ]
    },
    {
      "cell_type": "code",
      "metadata": {
        "colab": {
          "base_uri": "https://localhost:8080/",
          "height": 394
        },
        "id": "6TglYW0oMl1b",
        "outputId": "8013c1e9-b0f1-43ea-f46a-b71aca32aec9"
      },
      "source": [
        "popular_products = pd.DataFrame(amazon_ratings.groupby('ProductId')['Rating'].count())\n",
        "most_popular = popular_products.sort_values('Rating', ascending=False)\n",
        "most_popular.head(10)"
      ],
      "execution_count": 22,
      "outputs": [
        {
          "output_type": "execute_result",
          "data": {
            "text/html": [
              "<div>\n",
              "<style scoped>\n",
              "    .dataframe tbody tr th:only-of-type {\n",
              "        vertical-align: middle;\n",
              "    }\n",
              "\n",
              "    .dataframe tbody tr th {\n",
              "        vertical-align: top;\n",
              "    }\n",
              "\n",
              "    .dataframe thead th {\n",
              "        text-align: right;\n",
              "    }\n",
              "</style>\n",
              "<table border=\"1\" class=\"dataframe\">\n",
              "  <thead>\n",
              "    <tr style=\"text-align: right;\">\n",
              "      <th></th>\n",
              "      <th>Rating</th>\n",
              "    </tr>\n",
              "    <tr>\n",
              "      <th>ProductId</th>\n",
              "      <th></th>\n",
              "    </tr>\n",
              "  </thead>\n",
              "  <tbody>\n",
              "    <tr>\n",
              "      <th>B001MA0QY2</th>\n",
              "      <td>7533</td>\n",
              "    </tr>\n",
              "    <tr>\n",
              "      <th>B0009V1YR8</th>\n",
              "      <td>2869</td>\n",
              "    </tr>\n",
              "    <tr>\n",
              "      <th>B0043OYFKU</th>\n",
              "      <td>2477</td>\n",
              "    </tr>\n",
              "    <tr>\n",
              "      <th>B0000YUXI0</th>\n",
              "      <td>2143</td>\n",
              "    </tr>\n",
              "    <tr>\n",
              "      <th>B003V265QW</th>\n",
              "      <td>2088</td>\n",
              "    </tr>\n",
              "    <tr>\n",
              "      <th>B000ZMBSPE</th>\n",
              "      <td>2041</td>\n",
              "    </tr>\n",
              "    <tr>\n",
              "      <th>B003BQ6QXK</th>\n",
              "      <td>1918</td>\n",
              "    </tr>\n",
              "    <tr>\n",
              "      <th>B004OHQR1Q</th>\n",
              "      <td>1885</td>\n",
              "    </tr>\n",
              "    <tr>\n",
              "      <th>B00121UVU0</th>\n",
              "      <td>1838</td>\n",
              "    </tr>\n",
              "    <tr>\n",
              "      <th>B000FS05VG</th>\n",
              "      <td>1589</td>\n",
              "    </tr>\n",
              "  </tbody>\n",
              "</table>\n",
              "</div>"
            ],
            "text/plain": [
              "            Rating\n",
              "ProductId         \n",
              "B001MA0QY2    7533\n",
              "B0009V1YR8    2869\n",
              "B0043OYFKU    2477\n",
              "B0000YUXI0    2143\n",
              "B003V265QW    2088\n",
              "B000ZMBSPE    2041\n",
              "B003BQ6QXK    1918\n",
              "B004OHQR1Q    1885\n",
              "B00121UVU0    1838\n",
              "B000FS05VG    1589"
            ]
          },
          "metadata": {},
          "execution_count": 22
        }
      ]
    },
    {
      "cell_type": "markdown",
      "metadata": {
        "id": "Ab8RKzhlMnqf"
      },
      "source": [
        "Visualizing bar plot of most popular products"
      ]
    },
    {
      "cell_type": "code",
      "metadata": {
        "colab": {
          "base_uri": "https://localhost:8080/",
          "height": 361
        },
        "id": "dxdHdsaUMnwL",
        "outputId": "d248e45f-7f50-42d3-caa2-eac7a3e52d42"
      },
      "source": [
        "most_popular.head(30).plot(kind = \"bar\")"
      ],
      "execution_count": 23,
      "outputs": [
        {
          "output_type": "execute_result",
          "data": {
            "text/plain": [
              "<matplotlib.axes._subplots.AxesSubplot at 0x7fb611d17690>"
            ]
          },
          "metadata": {},
          "execution_count": 23
        },
        {
          "output_type": "display_data",
          "data": {
            "image/png": "[encoded data removed]",
            "text/plain": [
              "<Figure size 432x288 with 1 Axes>"
            ]
          },
          "metadata": {}
        }
      ]
    },
    {
      "cell_type": "markdown",
      "metadata": {
        "id": "LYXLqM9FMoU3"
      },
      "source": [
        "Utility Matrix : An utility matrix consists of all possible user-item preferences (ratings) details represented as a matrix. The utility matrix is sparce as none of the users would buy all the items in the list, hence, most of the values are unknown."
      ]
    },
    {
      "cell_type": "code",
      "metadata": {
        "colab": {
          "base_uri": "https://localhost:8080/",
          "height": 287
        },
        "id": "FrTu1lfSMoZ3",
        "outputId": "ef63527c-37c0-43dc-c194-8bba7666b7d1"
      },
      "source": [
        "amazon_ratings_subset = amazon_ratings.head(10000) #to prevent memory overload\n",
        "ratings_utility_matrix = amazon_ratings_subset.pivot_table(values='Rating', index='UserId', columns='ProductId', fill_value=0)\n",
        "ratings_utility_matrix.head()"
      ],
      "execution_count": 24,
      "outputs": [
        {
          "output_type": "execute_result",
          "data": {
            "text/html": [
              "<div>\n",
              "<style scoped>\n",
              "    .dataframe tbody tr th:only-of-type {\n",
              "        vertical-align: middle;\n",
              "    }\n",
              "\n",
              "    .dataframe tbody tr th {\n",
              "        vertical-align: top;\n",
              "    }\n",
              "\n",
              "    .dataframe thead th {\n",
              "        text-align: right;\n",
              "    }\n",
              "</style>\n",
              "<table border=\"1\" class=\"dataframe\">\n",
              "  <thead>\n",
              "    <tr style=\"text-align: right;\">\n",
              "      <th>ProductId</th>\n",
              "      <th>0205616461</th>\n",
              "      <th>0558925278</th>\n",
              "      <th>0733001998</th>\n",
              "      <th>0737104473</th>\n",
              "      <th>0762451459</th>\n",
              "      <th>1304139212</th>\n",
              "      <th>1304139220</th>\n",
              "      <th>130414089X</th>\n",
              "      <th>130414643X</th>\n",
              "      <th>1304146537</th>\n",
              "      <th>130414674X</th>\n",
              "      <th>1304168522</th>\n",
              "      <th>1304174778</th>\n",
              "      <th>1304174867</th>\n",
              "      <th>1304174905</th>\n",
              "      <th>1304196046</th>\n",
              "      <th>1304196062</th>\n",
              "      <th>1304196070</th>\n",
              "      <th>1304196135</th>\n",
              "      <th>1304351475</th>\n",
              "      <th>1304482596</th>\n",
              "      <th>1304482634</th>\n",
              "      <th>1304482685</th>\n",
              "      <th>1304488608</th>\n",
              "      <th>1304495396</th>\n",
              "      <th>1304511073</th>\n",
              "      <th>1304511081</th>\n",
              "      <th>1304511111</th>\n",
              "      <th>130451112X</th>\n",
              "      <th>1304511138</th>\n",
              "      <th>1304511146</th>\n",
              "      <th>1304511154</th>\n",
              "      <th>1304622193</th>\n",
              "      <th>1304622223</th>\n",
              "      <th>1304622428</th>\n",
              "      <th>1304622452</th>\n",
              "      <th>1304622460</th>\n",
              "      <th>1304622622</th>\n",
              "      <th>1304622657</th>\n",
              "      <th>1304622665</th>\n",
              "      <th>...</th>\n",
              "      <th>B000052YMU</th>\n",
              "      <th>B000052YMV</th>\n",
              "      <th>B000052YMX</th>\n",
              "      <th>B000052YN5</th>\n",
              "      <th>B000052YN6</th>\n",
              "      <th>B000052YN7</th>\n",
              "      <th>B000052YN9</th>\n",
              "      <th>B000052YNA</th>\n",
              "      <th>B000052YNB</th>\n",
              "      <th>B000052YNE</th>\n",
              "      <th>B000052YOC</th>\n",
              "      <th>B000052YOG</th>\n",
              "      <th>B000052YOL</th>\n",
              "      <th>B000052YOM</th>\n",
              "      <th>B000052YOQ</th>\n",
              "      <th>B000052YOR</th>\n",
              "      <th>B000052YOS</th>\n",
              "      <th>B000052YOT</th>\n",
              "      <th>B000052YOU</th>\n",
              "      <th>B000052YOV</th>\n",
              "      <th>B000052YOX</th>\n",
              "      <th>B000052YOY</th>\n",
              "      <th>B000052YOZ</th>\n",
              "      <th>B000052YP0</th>\n",
              "      <th>B000052YP1</th>\n",
              "      <th>B000052YP3</th>\n",
              "      <th>B000052YP4</th>\n",
              "      <th>B000052YP6</th>\n",
              "      <th>B000052YP9</th>\n",
              "      <th>B000052YPC</th>\n",
              "      <th>B000052YPE</th>\n",
              "      <th>B000052YPF</th>\n",
              "      <th>B000052YPG</th>\n",
              "      <th>B000052YPH</th>\n",
              "      <th>B000052YPM</th>\n",
              "      <th>B000052YPU</th>\n",
              "      <th>B000052YPV</th>\n",
              "      <th>B000052YPY</th>\n",
              "      <th>B000052YQ0</th>\n",
              "      <th>B000052YQ2</th>\n",
              "    </tr>\n",
              "    <tr>\n",
              "      <th>UserId</th>\n",
              "      <th></th>\n",
              "      <th></th>\n",
              "      <th></th>\n",
              "      <th></th>\n",
              "      <th></th>\n",
              "      <th></th>\n",
              "      <th></th>\n",
              "      <th></th>\n",
              "      <th></th>\n",
              "      <th></th>\n",
              "      <th></th>\n",
              "      <th></th>\n",
              "      <th></th>\n",
              "      <th></th>\n",
              "      <th></th>\n",
              "      <th></th>\n",
              "      <th></th>\n",
              "      <th></th>\n",
              "      <th></th>\n",
              "      <th></th>\n",
              "      <th></th>\n",
              "      <th></th>\n",
              "      <th></th>\n",
              "      <th></th>\n",
              "      <th></th>\n",
              "      <th></th>\n",
              "      <th></th>\n",
              "      <th></th>\n",
              "      <th></th>\n",
              "      <th></th>\n",
              "      <th></th>\n",
              "      <th></th>\n",
              "      <th></th>\n",
              "      <th></th>\n",
              "      <th></th>\n",
              "      <th></th>\n",
              "      <th></th>\n",
              "      <th></th>\n",
              "      <th></th>\n",
              "      <th></th>\n",
              "      <th></th>\n",
              "      <th></th>\n",
              "      <th></th>\n",
              "      <th></th>\n",
              "      <th></th>\n",
              "      <th></th>\n",
              "      <th></th>\n",
              "      <th></th>\n",
              "      <th></th>\n",
              "      <th></th>\n",
              "      <th></th>\n",
              "      <th></th>\n",
              "      <th></th>\n",
              "      <th></th>\n",
              "      <th></th>\n",
              "      <th></th>\n",
              "      <th></th>\n",
              "      <th></th>\n",
              "      <th></th>\n",
              "      <th></th>\n",
              "      <th></th>\n",
              "      <th></th>\n",
              "      <th></th>\n",
              "      <th></th>\n",
              "      <th></th>\n",
              "      <th></th>\n",
              "      <th></th>\n",
              "      <th></th>\n",
              "      <th></th>\n",
              "      <th></th>\n",
              "      <th></th>\n",
              "      <th></th>\n",
              "      <th></th>\n",
              "      <th></th>\n",
              "      <th></th>\n",
              "      <th></th>\n",
              "      <th></th>\n",
              "      <th></th>\n",
              "      <th></th>\n",
              "      <th></th>\n",
              "      <th></th>\n",
              "    </tr>\n",
              "  </thead>\n",
              "  <tbody>\n",
              "    <tr>\n",
              "      <th>A00205921JHJK5X9LNP42</th>\n",
              "      <td>0</td>\n",
              "      <td>0</td>\n",
              "      <td>0</td>\n",
              "      <td>0</td>\n",
              "      <td>0</td>\n",
              "      <td>0</td>\n",
              "      <td>0</td>\n",
              "      <td>0</td>\n",
              "      <td>0</td>\n",
              "      <td>0</td>\n",
              "      <td>0</td>\n",
              "      <td>0</td>\n",
              "      <td>0</td>\n",
              "      <td>0</td>\n",
              "      <td>0</td>\n",
              "      <td>0</td>\n",
              "      <td>0</td>\n",
              "      <td>0</td>\n",
              "      <td>0</td>\n",
              "      <td>0</td>\n",
              "      <td>0</td>\n",
              "      <td>0</td>\n",
              "      <td>0</td>\n",
              "      <td>0</td>\n",
              "      <td>0</td>\n",
              "      <td>0</td>\n",
              "      <td>0</td>\n",
              "      <td>0</td>\n",
              "      <td>0</td>\n",
              "      <td>0</td>\n",
              "      <td>0</td>\n",
              "      <td>0</td>\n",
              "      <td>0</td>\n",
              "      <td>0</td>\n",
              "      <td>0</td>\n",
              "      <td>0</td>\n",
              "      <td>0</td>\n",
              "      <td>0</td>\n",
              "      <td>0</td>\n",
              "      <td>0</td>\n",
              "      <td>...</td>\n",
              "      <td>0</td>\n",
              "      <td>0</td>\n",
              "      <td>0</td>\n",
              "      <td>0</td>\n",
              "      <td>0</td>\n",
              "      <td>0</td>\n",
              "      <td>0</td>\n",
              "      <td>0</td>\n",
              "      <td>0</td>\n",
              "      <td>0</td>\n",
              "      <td>0</td>\n",
              "      <td>0</td>\n",
              "      <td>0</td>\n",
              "      <td>0</td>\n",
              "      <td>0</td>\n",
              "      <td>0</td>\n",
              "      <td>0</td>\n",
              "      <td>0</td>\n",
              "      <td>0</td>\n",
              "      <td>0</td>\n",
              "      <td>0</td>\n",
              "      <td>0</td>\n",
              "      <td>0</td>\n",
              "      <td>0</td>\n",
              "      <td>0</td>\n",
              "      <td>0</td>\n",
              "      <td>0</td>\n",
              "      <td>0</td>\n",
              "      <td>0</td>\n",
              "      <td>0</td>\n",
              "      <td>0</td>\n",
              "      <td>0</td>\n",
              "      <td>0</td>\n",
              "      <td>0</td>\n",
              "      <td>0</td>\n",
              "      <td>0</td>\n",
              "      <td>0</td>\n",
              "      <td>0</td>\n",
              "      <td>0</td>\n",
              "      <td>0</td>\n",
              "    </tr>\n",
              "    <tr>\n",
              "      <th>A024581134CV80ZBLIZTZ</th>\n",
              "      <td>0</td>\n",
              "      <td>0</td>\n",
              "      <td>0</td>\n",
              "      <td>0</td>\n",
              "      <td>0</td>\n",
              "      <td>0</td>\n",
              "      <td>0</td>\n",
              "      <td>0</td>\n",
              "      <td>0</td>\n",
              "      <td>0</td>\n",
              "      <td>0</td>\n",
              "      <td>0</td>\n",
              "      <td>0</td>\n",
              "      <td>0</td>\n",
              "      <td>0</td>\n",
              "      <td>0</td>\n",
              "      <td>0</td>\n",
              "      <td>0</td>\n",
              "      <td>0</td>\n",
              "      <td>0</td>\n",
              "      <td>0</td>\n",
              "      <td>0</td>\n",
              "      <td>0</td>\n",
              "      <td>0</td>\n",
              "      <td>0</td>\n",
              "      <td>0</td>\n",
              "      <td>0</td>\n",
              "      <td>0</td>\n",
              "      <td>0</td>\n",
              "      <td>0</td>\n",
              "      <td>0</td>\n",
              "      <td>0</td>\n",
              "      <td>0</td>\n",
              "      <td>0</td>\n",
              "      <td>0</td>\n",
              "      <td>0</td>\n",
              "      <td>0</td>\n",
              "      <td>0</td>\n",
              "      <td>0</td>\n",
              "      <td>0</td>\n",
              "      <td>...</td>\n",
              "      <td>0</td>\n",
              "      <td>0</td>\n",
              "      <td>0</td>\n",
              "      <td>0</td>\n",
              "      <td>0</td>\n",
              "      <td>0</td>\n",
              "      <td>0</td>\n",
              "      <td>0</td>\n",
              "      <td>0</td>\n",
              "      <td>0</td>\n",
              "      <td>0</td>\n",
              "      <td>0</td>\n",
              "      <td>0</td>\n",
              "      <td>0</td>\n",
              "      <td>0</td>\n",
              "      <td>0</td>\n",
              "      <td>0</td>\n",
              "      <td>0</td>\n",
              "      <td>0</td>\n",
              "      <td>0</td>\n",
              "      <td>0</td>\n",
              "      <td>0</td>\n",
              "      <td>0</td>\n",
              "      <td>0</td>\n",
              "      <td>0</td>\n",
              "      <td>0</td>\n",
              "      <td>0</td>\n",
              "      <td>0</td>\n",
              "      <td>0</td>\n",
              "      <td>0</td>\n",
              "      <td>0</td>\n",
              "      <td>0</td>\n",
              "      <td>0</td>\n",
              "      <td>0</td>\n",
              "      <td>0</td>\n",
              "      <td>0</td>\n",
              "      <td>0</td>\n",
              "      <td>0</td>\n",
              "      <td>0</td>\n",
              "      <td>0</td>\n",
              "    </tr>\n",
              "    <tr>\n",
              "      <th>A03056581JJIOL5FSKJY7</th>\n",
              "      <td>0</td>\n",
              "      <td>0</td>\n",
              "      <td>0</td>\n",
              "      <td>0</td>\n",
              "      <td>0</td>\n",
              "      <td>0</td>\n",
              "      <td>0</td>\n",
              "      <td>0</td>\n",
              "      <td>0</td>\n",
              "      <td>0</td>\n",
              "      <td>0</td>\n",
              "      <td>0</td>\n",
              "      <td>0</td>\n",
              "      <td>0</td>\n",
              "      <td>0</td>\n",
              "      <td>0</td>\n",
              "      <td>0</td>\n",
              "      <td>0</td>\n",
              "      <td>0</td>\n",
              "      <td>0</td>\n",
              "      <td>0</td>\n",
              "      <td>0</td>\n",
              "      <td>0</td>\n",
              "      <td>0</td>\n",
              "      <td>0</td>\n",
              "      <td>0</td>\n",
              "      <td>0</td>\n",
              "      <td>0</td>\n",
              "      <td>0</td>\n",
              "      <td>0</td>\n",
              "      <td>0</td>\n",
              "      <td>0</td>\n",
              "      <td>0</td>\n",
              "      <td>0</td>\n",
              "      <td>0</td>\n",
              "      <td>0</td>\n",
              "      <td>0</td>\n",
              "      <td>0</td>\n",
              "      <td>0</td>\n",
              "      <td>0</td>\n",
              "      <td>...</td>\n",
              "      <td>0</td>\n",
              "      <td>0</td>\n",
              "      <td>0</td>\n",
              "      <td>0</td>\n",
              "      <td>0</td>\n",
              "      <td>0</td>\n",
              "      <td>0</td>\n",
              "      <td>0</td>\n",
              "      <td>0</td>\n",
              "      <td>0</td>\n",
              "      <td>0</td>\n",
              "      <td>0</td>\n",
              "      <td>0</td>\n",
              "      <td>0</td>\n",
              "      <td>0</td>\n",
              "      <td>0</td>\n",
              "      <td>0</td>\n",
              "      <td>0</td>\n",
              "      <td>0</td>\n",
              "      <td>0</td>\n",
              "      <td>0</td>\n",
              "      <td>0</td>\n",
              "      <td>0</td>\n",
              "      <td>0</td>\n",
              "      <td>0</td>\n",
              "      <td>0</td>\n",
              "      <td>0</td>\n",
              "      <td>0</td>\n",
              "      <td>0</td>\n",
              "      <td>0</td>\n",
              "      <td>0</td>\n",
              "      <td>0</td>\n",
              "      <td>0</td>\n",
              "      <td>0</td>\n",
              "      <td>0</td>\n",
              "      <td>0</td>\n",
              "      <td>0</td>\n",
              "      <td>0</td>\n",
              "      <td>0</td>\n",
              "      <td>0</td>\n",
              "    </tr>\n",
              "    <tr>\n",
              "      <th>A03099101ZRK4K607JVHH</th>\n",
              "      <td>0</td>\n",
              "      <td>0</td>\n",
              "      <td>0</td>\n",
              "      <td>0</td>\n",
              "      <td>0</td>\n",
              "      <td>0</td>\n",
              "      <td>0</td>\n",
              "      <td>0</td>\n",
              "      <td>0</td>\n",
              "      <td>0</td>\n",
              "      <td>0</td>\n",
              "      <td>0</td>\n",
              "      <td>0</td>\n",
              "      <td>0</td>\n",
              "      <td>0</td>\n",
              "      <td>0</td>\n",
              "      <td>0</td>\n",
              "      <td>0</td>\n",
              "      <td>0</td>\n",
              "      <td>0</td>\n",
              "      <td>0</td>\n",
              "      <td>0</td>\n",
              "      <td>0</td>\n",
              "      <td>0</td>\n",
              "      <td>0</td>\n",
              "      <td>0</td>\n",
              "      <td>0</td>\n",
              "      <td>0</td>\n",
              "      <td>0</td>\n",
              "      <td>0</td>\n",
              "      <td>0</td>\n",
              "      <td>0</td>\n",
              "      <td>0</td>\n",
              "      <td>0</td>\n",
              "      <td>0</td>\n",
              "      <td>0</td>\n",
              "      <td>0</td>\n",
              "      <td>0</td>\n",
              "      <td>0</td>\n",
              "      <td>0</td>\n",
              "      <td>...</td>\n",
              "      <td>0</td>\n",
              "      <td>0</td>\n",
              "      <td>0</td>\n",
              "      <td>0</td>\n",
              "      <td>0</td>\n",
              "      <td>0</td>\n",
              "      <td>0</td>\n",
              "      <td>0</td>\n",
              "      <td>0</td>\n",
              "      <td>0</td>\n",
              "      <td>0</td>\n",
              "      <td>0</td>\n",
              "      <td>0</td>\n",
              "      <td>0</td>\n",
              "      <td>0</td>\n",
              "      <td>0</td>\n",
              "      <td>0</td>\n",
              "      <td>0</td>\n",
              "      <td>0</td>\n",
              "      <td>0</td>\n",
              "      <td>0</td>\n",
              "      <td>0</td>\n",
              "      <td>0</td>\n",
              "      <td>0</td>\n",
              "      <td>0</td>\n",
              "      <td>0</td>\n",
              "      <td>0</td>\n",
              "      <td>0</td>\n",
              "      <td>0</td>\n",
              "      <td>0</td>\n",
              "      <td>0</td>\n",
              "      <td>0</td>\n",
              "      <td>0</td>\n",
              "      <td>0</td>\n",
              "      <td>0</td>\n",
              "      <td>0</td>\n",
              "      <td>0</td>\n",
              "      <td>0</td>\n",
              "      <td>0</td>\n",
              "      <td>0</td>\n",
              "    </tr>\n",
              "    <tr>\n",
              "      <th>A0505229A7NSH3FRXRR4</th>\n",
              "      <td>0</td>\n",
              "      <td>0</td>\n",
              "      <td>0</td>\n",
              "      <td>0</td>\n",
              "      <td>0</td>\n",
              "      <td>0</td>\n",
              "      <td>0</td>\n",
              "      <td>0</td>\n",
              "      <td>0</td>\n",
              "      <td>0</td>\n",
              "      <td>0</td>\n",
              "      <td>0</td>\n",
              "      <td>0</td>\n",
              "      <td>0</td>\n",
              "      <td>0</td>\n",
              "      <td>0</td>\n",
              "      <td>0</td>\n",
              "      <td>0</td>\n",
              "      <td>0</td>\n",
              "      <td>0</td>\n",
              "      <td>0</td>\n",
              "      <td>0</td>\n",
              "      <td>0</td>\n",
              "      <td>0</td>\n",
              "      <td>0</td>\n",
              "      <td>0</td>\n",
              "      <td>0</td>\n",
              "      <td>0</td>\n",
              "      <td>0</td>\n",
              "      <td>0</td>\n",
              "      <td>0</td>\n",
              "      <td>0</td>\n",
              "      <td>0</td>\n",
              "      <td>0</td>\n",
              "      <td>0</td>\n",
              "      <td>0</td>\n",
              "      <td>0</td>\n",
              "      <td>0</td>\n",
              "      <td>0</td>\n",
              "      <td>0</td>\n",
              "      <td>...</td>\n",
              "      <td>0</td>\n",
              "      <td>0</td>\n",
              "      <td>0</td>\n",
              "      <td>0</td>\n",
              "      <td>0</td>\n",
              "      <td>0</td>\n",
              "      <td>0</td>\n",
              "      <td>0</td>\n",
              "      <td>0</td>\n",
              "      <td>0</td>\n",
              "      <td>0</td>\n",
              "      <td>0</td>\n",
              "      <td>0</td>\n",
              "      <td>0</td>\n",
              "      <td>0</td>\n",
              "      <td>0</td>\n",
              "      <td>0</td>\n",
              "      <td>0</td>\n",
              "      <td>0</td>\n",
              "      <td>0</td>\n",
              "      <td>0</td>\n",
              "      <td>0</td>\n",
              "      <td>0</td>\n",
              "      <td>0</td>\n",
              "      <td>0</td>\n",
              "      <td>0</td>\n",
              "      <td>0</td>\n",
              "      <td>0</td>\n",
              "      <td>0</td>\n",
              "      <td>0</td>\n",
              "      <td>0</td>\n",
              "      <td>0</td>\n",
              "      <td>0</td>\n",
              "      <td>0</td>\n",
              "      <td>0</td>\n",
              "      <td>0</td>\n",
              "      <td>0</td>\n",
              "      <td>0</td>\n",
              "      <td>0</td>\n",
              "      <td>0</td>\n",
              "    </tr>\n",
              "  </tbody>\n",
              "</table>\n",
              "<p>5 rows × 886 columns</p>\n",
              "</div>"
            ],
            "text/plain": [
              "ProductId              0205616461  0558925278  ...  B000052YQ0  B000052YQ2\n",
              "UserId                                         ...                        \n",
              "A00205921JHJK5X9LNP42           0           0  ...           0           0\n",
              "A024581134CV80ZBLIZTZ           0           0  ...           0           0\n",
              "A03056581JJIOL5FSKJY7           0           0  ...           0           0\n",
              "A03099101ZRK4K607JVHH           0           0  ...           0           0\n",
              "A0505229A7NSH3FRXRR4            0           0  ...           0           0\n",
              "\n",
              "[5 rows x 886 columns]"
            ]
          },
          "metadata": {},
          "execution_count": 24
        }
      ]
    },
    {
      "cell_type": "markdown",
      "metadata": {
        "id": "QJ7POlczSHBF"
      },
      "source": [
        "As expected, the utility matrix obtaned above is sparce, the unknown values are filled with 0."
      ]
    },
    {
      "cell_type": "code",
      "metadata": {
        "colab": {
          "base_uri": "https://localhost:8080/"
        },
        "id": "Dp2WF0w1SHGP",
        "outputId": "d98b457c-6cea-43b9-f92c-789fa66f2e74"
      },
      "source": [
        "ratings_utility_matrix.shape"
      ],
      "execution_count": 25,
      "outputs": [
        {
          "output_type": "execute_result",
          "data": {
            "text/plain": [
              "(9697, 886)"
            ]
          },
          "metadata": {},
          "execution_count": 25
        }
      ]
    },
    {
      "cell_type": "markdown",
      "metadata": {
        "id": "QmqGrSF5SXrM"
      },
      "source": [
        "Transposing the matrix"
      ]
    },
    {
      "cell_type": "code",
      "metadata": {
        "colab": {
          "base_uri": "https://localhost:8080/",
          "height": 287
        },
        "id": "Zj8gCqpdSXxl",
        "outputId": "e1b4dc2e-2e7e-4ea8-c2e8-b99de1ae3523"
      },
      "source": [
        "X = ratings_utility_matrix.T\n",
        "X.head()"
      ],
      "execution_count": 26,
      "outputs": [
        {
          "output_type": "execute_result",
          "data": {
            "text/html": [
              "<div>\n",
              "<style scoped>\n",
              "    .dataframe tbody tr th:only-of-type {\n",
              "        vertical-align: middle;\n",
              "    }\n",
              "\n",
              "    .dataframe tbody tr th {\n",
              "        vertical-align: top;\n",
              "    }\n",
              "\n",
              "    .dataframe thead th {\n",
              "        text-align: right;\n",
              "    }\n",
              "</style>\n",
              "<table border=\"1\" class=\"dataframe\">\n",
              "  <thead>\n",
              "    <tr style=\"text-align: right;\">\n",
              "      <th>UserId</th>\n",
              "      <th>A00205921JHJK5X9LNP42</th>\n",
              "      <th>A024581134CV80ZBLIZTZ</th>\n",
              "      <th>A03056581JJIOL5FSKJY7</th>\n",
              "      <th>A03099101ZRK4K607JVHH</th>\n",
              "      <th>A0505229A7NSH3FRXRR4</th>\n",
              "      <th>A05492663T95KW63BR75K</th>\n",
              "      <th>A059547920Q3LZVFHLPI3</th>\n",
              "      <th>A07410232KYRFR25CIUGJ</th>\n",
              "      <th>A082796624UNM47DSAI6K</th>\n",
              "      <th>A0864963DOAY7LXGS5I6</th>\n",
              "      <th>A0870685EP51H0X8LFFU</th>\n",
              "      <th>A100AM334XZS3V</th>\n",
              "      <th>A100GYE1W4OXZ8</th>\n",
              "      <th>A100UD67AHFODS</th>\n",
              "      <th>A101GN97A47S1P</th>\n",
              "      <th>A10205RFE66H1R</th>\n",
              "      <th>A1029IITTU8289</th>\n",
              "      <th>A102LFZGD4MJXV</th>\n",
              "      <th>A1034GEUA8ZVFR</th>\n",
              "      <th>A103BJIOJSDJL1</th>\n",
              "      <th>A103FNP25GNMPH</th>\n",
              "      <th>A103PIRYKWQKR7</th>\n",
              "      <th>A103QH6R6A4FT1</th>\n",
              "      <th>A103QUZ016BQNJ</th>\n",
              "      <th>A103U3KR4L2ZXT</th>\n",
              "      <th>A1041053SID37WN8GTT8</th>\n",
              "      <th>A104CBA4A4HYOF</th>\n",
              "      <th>A104D62WJII6KP</th>\n",
              "      <th>A105C73RQ4YGCW</th>\n",
              "      <th>A1087Y8RJ4D422</th>\n",
              "      <th>A108HJD2ESJXUY</th>\n",
              "      <th>A108JE8E0CK1G3</th>\n",
              "      <th>A108LMMYNGL89M</th>\n",
              "      <th>A108V4O9Z78DB5</th>\n",
              "      <th>A10BXWWQPUDNCW</th>\n",
              "      <th>A10BZV61MNLBZD</th>\n",
              "      <th>A10C03UY4QEHJT</th>\n",
              "      <th>A10FEMX3ROQPTD</th>\n",
              "      <th>A10FXC2G4J7V6J</th>\n",
              "      <th>A10G0QS2B1S9J2</th>\n",
              "      <th>...</th>\n",
              "      <th>AZD8DMTDUVUDL</th>\n",
              "      <th>AZDHBUN122II4</th>\n",
              "      <th>AZDIZ674B4GVL</th>\n",
              "      <th>AZEIM64I6C7WW</th>\n",
              "      <th>AZG4Z8O02E9H4</th>\n",
              "      <th>AZG82XLVC98Y3</th>\n",
              "      <th>AZGGH4GS18RUN</th>\n",
              "      <th>AZGNXVV2ENZW8</th>\n",
              "      <th>AZHA72ZW5U8</th>\n",
              "      <th>AZJ8PVOKAJS5</th>\n",
              "      <th>AZJSE6RVOUU0E</th>\n",
              "      <th>AZKWPIG6RXKNG</th>\n",
              "      <th>AZLE2XFH3JUNG</th>\n",
              "      <th>AZLXFHIJ0J4VQ</th>\n",
              "      <th>AZLYAJ8XE443K</th>\n",
              "      <th>AZM0CLX6A5FFB</th>\n",
              "      <th>AZM3MWNYYPF0J</th>\n",
              "      <th>AZMS0XGWN43LW</th>\n",
              "      <th>AZMW54GPQ0WTQ</th>\n",
              "      <th>AZMWU0SO3H0DG</th>\n",
              "      <th>AZN3PS2PIZV06</th>\n",
              "      <th>AZNACMHVBRB5P</th>\n",
              "      <th>AZNOO10AO8G8V</th>\n",
              "      <th>AZP9CW7C6G8XO</th>\n",
              "      <th>AZPJ8ZDUN5HY8</th>\n",
              "      <th>AZSCK9QG6SMSB</th>\n",
              "      <th>AZSY5LHJ6LN7F</th>\n",
              "      <th>AZUFBU43ILNPC</th>\n",
              "      <th>AZUOLPXIGPG5O</th>\n",
              "      <th>AZW0RIARTTWWR</th>\n",
              "      <th>AZW1HXXYAC15B</th>\n",
              "      <th>AZWRTJPN7NXT</th>\n",
              "      <th>AZWTXHXZXFAYP</th>\n",
              "      <th>AZYQEFB9Y5N22</th>\n",
              "      <th>AZZHB6U54UDYW</th>\n",
              "      <th>AZZHJZP4GQPPZ</th>\n",
              "      <th>AZZNK89PXD006</th>\n",
              "      <th>AZZOFVMQC0BJG</th>\n",
              "      <th>AZZQXL8VDCFTV</th>\n",
              "      <th>AZZTJQ7CQZUD8</th>\n",
              "    </tr>\n",
              "    <tr>\n",
              "      <th>ProductId</th>\n",
              "      <th></th>\n",
              "      <th></th>\n",
              "      <th></th>\n",
              "      <th></th>\n",
              "      <th></th>\n",
              "      <th></th>\n",
              "      <th></th>\n",
              "      <th></th>\n",
              "      <th></th>\n",
              "      <th></th>\n",
              "      <th></th>\n",
              "      <th></th>\n",
              "      <th></th>\n",
              "      <th></th>\n",
              "      <th></th>\n",
              "      <th></th>\n",
              "      <th></th>\n",
              "      <th></th>\n",
              "      <th></th>\n",
              "      <th></th>\n",
              "      <th></th>\n",
              "      <th></th>\n",
              "      <th></th>\n",
              "      <th></th>\n",
              "      <th></th>\n",
              "      <th></th>\n",
              "      <th></th>\n",
              "      <th></th>\n",
              "      <th></th>\n",
              "      <th></th>\n",
              "      <th></th>\n",
              "      <th></th>\n",
              "      <th></th>\n",
              "      <th></th>\n",
              "      <th></th>\n",
              "      <th></th>\n",
              "      <th></th>\n",
              "      <th></th>\n",
              "      <th></th>\n",
              "      <th></th>\n",
              "      <th></th>\n",
              "      <th></th>\n",
              "      <th></th>\n",
              "      <th></th>\n",
              "      <th></th>\n",
              "      <th></th>\n",
              "      <th></th>\n",
              "      <th></th>\n",
              "      <th></th>\n",
              "      <th></th>\n",
              "      <th></th>\n",
              "      <th></th>\n",
              "      <th></th>\n",
              "      <th></th>\n",
              "      <th></th>\n",
              "      <th></th>\n",
              "      <th></th>\n",
              "      <th></th>\n",
              "      <th></th>\n",
              "      <th></th>\n",
              "      <th></th>\n",
              "      <th></th>\n",
              "      <th></th>\n",
              "      <th></th>\n",
              "      <th></th>\n",
              "      <th></th>\n",
              "      <th></th>\n",
              "      <th></th>\n",
              "      <th></th>\n",
              "      <th></th>\n",
              "      <th></th>\n",
              "      <th></th>\n",
              "      <th></th>\n",
              "      <th></th>\n",
              "      <th></th>\n",
              "      <th></th>\n",
              "      <th></th>\n",
              "      <th></th>\n",
              "      <th></th>\n",
              "      <th></th>\n",
              "      <th></th>\n",
              "    </tr>\n",
              "  </thead>\n",
              "  <tbody>\n",
              "    <tr>\n",
              "      <th>0205616461</th>\n",
              "      <td>0</td>\n",
              "      <td>0</td>\n",
              "      <td>0</td>\n",
              "      <td>0</td>\n",
              "      <td>0</td>\n",
              "      <td>0</td>\n",
              "      <td>0</td>\n",
              "      <td>0</td>\n",
              "      <td>0</td>\n",
              "      <td>0</td>\n",
              "      <td>0</td>\n",
              "      <td>0</td>\n",
              "      <td>0</td>\n",
              "      <td>0</td>\n",
              "      <td>0</td>\n",
              "      <td>0</td>\n",
              "      <td>0</td>\n",
              "      <td>0</td>\n",
              "      <td>0</td>\n",
              "      <td>0</td>\n",
              "      <td>0</td>\n",
              "      <td>0</td>\n",
              "      <td>0</td>\n",
              "      <td>0</td>\n",
              "      <td>0</td>\n",
              "      <td>0</td>\n",
              "      <td>0</td>\n",
              "      <td>0</td>\n",
              "      <td>0</td>\n",
              "      <td>0</td>\n",
              "      <td>0</td>\n",
              "      <td>0</td>\n",
              "      <td>0</td>\n",
              "      <td>0</td>\n",
              "      <td>0</td>\n",
              "      <td>0</td>\n",
              "      <td>0</td>\n",
              "      <td>0</td>\n",
              "      <td>0</td>\n",
              "      <td>0</td>\n",
              "      <td>...</td>\n",
              "      <td>0</td>\n",
              "      <td>0</td>\n",
              "      <td>0</td>\n",
              "      <td>0</td>\n",
              "      <td>0</td>\n",
              "      <td>0</td>\n",
              "      <td>0</td>\n",
              "      <td>0</td>\n",
              "      <td>0</td>\n",
              "      <td>0</td>\n",
              "      <td>0</td>\n",
              "      <td>0</td>\n",
              "      <td>0</td>\n",
              "      <td>0</td>\n",
              "      <td>0</td>\n",
              "      <td>0</td>\n",
              "      <td>0</td>\n",
              "      <td>0</td>\n",
              "      <td>0</td>\n",
              "      <td>0</td>\n",
              "      <td>0</td>\n",
              "      <td>0</td>\n",
              "      <td>0</td>\n",
              "      <td>0</td>\n",
              "      <td>0</td>\n",
              "      <td>0</td>\n",
              "      <td>0</td>\n",
              "      <td>0</td>\n",
              "      <td>0</td>\n",
              "      <td>0</td>\n",
              "      <td>0</td>\n",
              "      <td>0</td>\n",
              "      <td>0</td>\n",
              "      <td>0</td>\n",
              "      <td>0</td>\n",
              "      <td>0</td>\n",
              "      <td>0</td>\n",
              "      <td>0</td>\n",
              "      <td>0</td>\n",
              "      <td>0</td>\n",
              "    </tr>\n",
              "    <tr>\n",
              "      <th>0558925278</th>\n",
              "      <td>0</td>\n",
              "      <td>0</td>\n",
              "      <td>0</td>\n",
              "      <td>0</td>\n",
              "      <td>0</td>\n",
              "      <td>0</td>\n",
              "      <td>0</td>\n",
              "      <td>0</td>\n",
              "      <td>0</td>\n",
              "      <td>0</td>\n",
              "      <td>0</td>\n",
              "      <td>0</td>\n",
              "      <td>0</td>\n",
              "      <td>0</td>\n",
              "      <td>0</td>\n",
              "      <td>0</td>\n",
              "      <td>0</td>\n",
              "      <td>0</td>\n",
              "      <td>0</td>\n",
              "      <td>0</td>\n",
              "      <td>0</td>\n",
              "      <td>0</td>\n",
              "      <td>0</td>\n",
              "      <td>0</td>\n",
              "      <td>0</td>\n",
              "      <td>0</td>\n",
              "      <td>0</td>\n",
              "      <td>0</td>\n",
              "      <td>0</td>\n",
              "      <td>0</td>\n",
              "      <td>0</td>\n",
              "      <td>0</td>\n",
              "      <td>0</td>\n",
              "      <td>0</td>\n",
              "      <td>0</td>\n",
              "      <td>0</td>\n",
              "      <td>0</td>\n",
              "      <td>0</td>\n",
              "      <td>0</td>\n",
              "      <td>0</td>\n",
              "      <td>...</td>\n",
              "      <td>0</td>\n",
              "      <td>0</td>\n",
              "      <td>0</td>\n",
              "      <td>0</td>\n",
              "      <td>0</td>\n",
              "      <td>0</td>\n",
              "      <td>0</td>\n",
              "      <td>0</td>\n",
              "      <td>0</td>\n",
              "      <td>0</td>\n",
              "      <td>0</td>\n",
              "      <td>0</td>\n",
              "      <td>0</td>\n",
              "      <td>0</td>\n",
              "      <td>0</td>\n",
              "      <td>0</td>\n",
              "      <td>0</td>\n",
              "      <td>0</td>\n",
              "      <td>0</td>\n",
              "      <td>0</td>\n",
              "      <td>0</td>\n",
              "      <td>0</td>\n",
              "      <td>0</td>\n",
              "      <td>0</td>\n",
              "      <td>0</td>\n",
              "      <td>0</td>\n",
              "      <td>0</td>\n",
              "      <td>0</td>\n",
              "      <td>0</td>\n",
              "      <td>0</td>\n",
              "      <td>0</td>\n",
              "      <td>0</td>\n",
              "      <td>0</td>\n",
              "      <td>0</td>\n",
              "      <td>0</td>\n",
              "      <td>0</td>\n",
              "      <td>0</td>\n",
              "      <td>0</td>\n",
              "      <td>0</td>\n",
              "      <td>0</td>\n",
              "    </tr>\n",
              "    <tr>\n",
              "      <th>0733001998</th>\n",
              "      <td>0</td>\n",
              "      <td>0</td>\n",
              "      <td>0</td>\n",
              "      <td>0</td>\n",
              "      <td>0</td>\n",
              "      <td>0</td>\n",
              "      <td>0</td>\n",
              "      <td>0</td>\n",
              "      <td>0</td>\n",
              "      <td>0</td>\n",
              "      <td>0</td>\n",
              "      <td>0</td>\n",
              "      <td>0</td>\n",
              "      <td>0</td>\n",
              "      <td>0</td>\n",
              "      <td>0</td>\n",
              "      <td>0</td>\n",
              "      <td>0</td>\n",
              "      <td>0</td>\n",
              "      <td>0</td>\n",
              "      <td>0</td>\n",
              "      <td>0</td>\n",
              "      <td>0</td>\n",
              "      <td>0</td>\n",
              "      <td>0</td>\n",
              "      <td>0</td>\n",
              "      <td>0</td>\n",
              "      <td>0</td>\n",
              "      <td>0</td>\n",
              "      <td>0</td>\n",
              "      <td>0</td>\n",
              "      <td>0</td>\n",
              "      <td>0</td>\n",
              "      <td>0</td>\n",
              "      <td>0</td>\n",
              "      <td>0</td>\n",
              "      <td>0</td>\n",
              "      <td>0</td>\n",
              "      <td>0</td>\n",
              "      <td>0</td>\n",
              "      <td>...</td>\n",
              "      <td>0</td>\n",
              "      <td>0</td>\n",
              "      <td>0</td>\n",
              "      <td>0</td>\n",
              "      <td>0</td>\n",
              "      <td>0</td>\n",
              "      <td>0</td>\n",
              "      <td>0</td>\n",
              "      <td>0</td>\n",
              "      <td>0</td>\n",
              "      <td>0</td>\n",
              "      <td>0</td>\n",
              "      <td>0</td>\n",
              "      <td>0</td>\n",
              "      <td>0</td>\n",
              "      <td>0</td>\n",
              "      <td>0</td>\n",
              "      <td>0</td>\n",
              "      <td>0</td>\n",
              "      <td>0</td>\n",
              "      <td>0</td>\n",
              "      <td>0</td>\n",
              "      <td>0</td>\n",
              "      <td>0</td>\n",
              "      <td>0</td>\n",
              "      <td>0</td>\n",
              "      <td>0</td>\n",
              "      <td>0</td>\n",
              "      <td>0</td>\n",
              "      <td>0</td>\n",
              "      <td>0</td>\n",
              "      <td>0</td>\n",
              "      <td>0</td>\n",
              "      <td>0</td>\n",
              "      <td>0</td>\n",
              "      <td>0</td>\n",
              "      <td>0</td>\n",
              "      <td>0</td>\n",
              "      <td>0</td>\n",
              "      <td>0</td>\n",
              "    </tr>\n",
              "    <tr>\n",
              "      <th>0737104473</th>\n",
              "      <td>0</td>\n",
              "      <td>0</td>\n",
              "      <td>0</td>\n",
              "      <td>0</td>\n",
              "      <td>0</td>\n",
              "      <td>0</td>\n",
              "      <td>0</td>\n",
              "      <td>0</td>\n",
              "      <td>0</td>\n",
              "      <td>0</td>\n",
              "      <td>0</td>\n",
              "      <td>0</td>\n",
              "      <td>0</td>\n",
              "      <td>0</td>\n",
              "      <td>0</td>\n",
              "      <td>0</td>\n",
              "      <td>0</td>\n",
              "      <td>0</td>\n",
              "      <td>0</td>\n",
              "      <td>0</td>\n",
              "      <td>0</td>\n",
              "      <td>0</td>\n",
              "      <td>0</td>\n",
              "      <td>0</td>\n",
              "      <td>0</td>\n",
              "      <td>0</td>\n",
              "      <td>0</td>\n",
              "      <td>0</td>\n",
              "      <td>0</td>\n",
              "      <td>0</td>\n",
              "      <td>0</td>\n",
              "      <td>0</td>\n",
              "      <td>0</td>\n",
              "      <td>0</td>\n",
              "      <td>0</td>\n",
              "      <td>0</td>\n",
              "      <td>0</td>\n",
              "      <td>0</td>\n",
              "      <td>0</td>\n",
              "      <td>0</td>\n",
              "      <td>...</td>\n",
              "      <td>0</td>\n",
              "      <td>0</td>\n",
              "      <td>0</td>\n",
              "      <td>0</td>\n",
              "      <td>0</td>\n",
              "      <td>0</td>\n",
              "      <td>0</td>\n",
              "      <td>0</td>\n",
              "      <td>0</td>\n",
              "      <td>0</td>\n",
              "      <td>0</td>\n",
              "      <td>0</td>\n",
              "      <td>0</td>\n",
              "      <td>0</td>\n",
              "      <td>0</td>\n",
              "      <td>0</td>\n",
              "      <td>0</td>\n",
              "      <td>0</td>\n",
              "      <td>0</td>\n",
              "      <td>0</td>\n",
              "      <td>0</td>\n",
              "      <td>0</td>\n",
              "      <td>0</td>\n",
              "      <td>0</td>\n",
              "      <td>0</td>\n",
              "      <td>0</td>\n",
              "      <td>0</td>\n",
              "      <td>0</td>\n",
              "      <td>0</td>\n",
              "      <td>0</td>\n",
              "      <td>0</td>\n",
              "      <td>0</td>\n",
              "      <td>0</td>\n",
              "      <td>0</td>\n",
              "      <td>0</td>\n",
              "      <td>0</td>\n",
              "      <td>0</td>\n",
              "      <td>0</td>\n",
              "      <td>0</td>\n",
              "      <td>0</td>\n",
              "    </tr>\n",
              "    <tr>\n",
              "      <th>0762451459</th>\n",
              "      <td>0</td>\n",
              "      <td>0</td>\n",
              "      <td>0</td>\n",
              "      <td>0</td>\n",
              "      <td>0</td>\n",
              "      <td>0</td>\n",
              "      <td>0</td>\n",
              "      <td>0</td>\n",
              "      <td>0</td>\n",
              "      <td>0</td>\n",
              "      <td>0</td>\n",
              "      <td>0</td>\n",
              "      <td>0</td>\n",
              "      <td>0</td>\n",
              "      <td>0</td>\n",
              "      <td>0</td>\n",
              "      <td>0</td>\n",
              "      <td>0</td>\n",
              "      <td>0</td>\n",
              "      <td>0</td>\n",
              "      <td>0</td>\n",
              "      <td>0</td>\n",
              "      <td>0</td>\n",
              "      <td>0</td>\n",
              "      <td>0</td>\n",
              "      <td>0</td>\n",
              "      <td>0</td>\n",
              "      <td>0</td>\n",
              "      <td>0</td>\n",
              "      <td>0</td>\n",
              "      <td>0</td>\n",
              "      <td>0</td>\n",
              "      <td>0</td>\n",
              "      <td>0</td>\n",
              "      <td>0</td>\n",
              "      <td>0</td>\n",
              "      <td>0</td>\n",
              "      <td>0</td>\n",
              "      <td>0</td>\n",
              "      <td>0</td>\n",
              "      <td>...</td>\n",
              "      <td>0</td>\n",
              "      <td>0</td>\n",
              "      <td>0</td>\n",
              "      <td>0</td>\n",
              "      <td>0</td>\n",
              "      <td>0</td>\n",
              "      <td>0</td>\n",
              "      <td>0</td>\n",
              "      <td>0</td>\n",
              "      <td>0</td>\n",
              "      <td>0</td>\n",
              "      <td>0</td>\n",
              "      <td>0</td>\n",
              "      <td>0</td>\n",
              "      <td>0</td>\n",
              "      <td>0</td>\n",
              "      <td>0</td>\n",
              "      <td>0</td>\n",
              "      <td>0</td>\n",
              "      <td>0</td>\n",
              "      <td>0</td>\n",
              "      <td>0</td>\n",
              "      <td>0</td>\n",
              "      <td>0</td>\n",
              "      <td>0</td>\n",
              "      <td>0</td>\n",
              "      <td>0</td>\n",
              "      <td>0</td>\n",
              "      <td>0</td>\n",
              "      <td>0</td>\n",
              "      <td>0</td>\n",
              "      <td>0</td>\n",
              "      <td>0</td>\n",
              "      <td>0</td>\n",
              "      <td>0</td>\n",
              "      <td>0</td>\n",
              "      <td>0</td>\n",
              "      <td>0</td>\n",
              "      <td>0</td>\n",
              "      <td>0</td>\n",
              "    </tr>\n",
              "  </tbody>\n",
              "</table>\n",
              "<p>5 rows × 9697 columns</p>\n",
              "</div>"
            ],
            "text/plain": [
              "UserId      A00205921JHJK5X9LNP42  ...  AZZTJQ7CQZUD8\n",
              "ProductId                          ...               \n",
              "0205616461                      0  ...              0\n",
              "0558925278                      0  ...              0\n",
              "0733001998                      0  ...              0\n",
              "0737104473                      0  ...              0\n",
              "0762451459                      0  ...              0\n",
              "\n",
              "[5 rows x 9697 columns]"
            ]
          },
          "metadata": {},
          "execution_count": 26
        }
      ]
    },
    {
      "cell_type": "code",
      "metadata": {
        "colab": {
          "base_uri": "https://localhost:8080/"
        },
        "id": "l93fqQgfScE4",
        "outputId": "ac608b3b-924a-4eb4-aeda-730e117c6ecd"
      },
      "source": [
        "X.shape"
      ],
      "execution_count": 27,
      "outputs": [
        {
          "output_type": "execute_result",
          "data": {
            "text/plain": [
              "(886, 9697)"
            ]
          },
          "metadata": {},
          "execution_count": 27
        }
      ]
    },
    {
      "cell_type": "markdown",
      "metadata": {
        "id": "Iv5OZMGDSgCt"
      },
      "source": [
        "Decomposing the matrix"
      ]
    },
    {
      "cell_type": "code",
      "metadata": {
        "colab": {
          "base_uri": "https://localhost:8080/"
        },
        "id": "ndxuUwL0SgHb",
        "outputId": "6d97417a-3478-48f6-da6a-4043fe8f7855"
      },
      "source": [
        "SVD = TruncatedSVD(n_components=10)\n",
        "decomposed_matrix = SVD.fit_transform(X)\n",
        "decomposed_matrix.shape"
      ],
      "execution_count": 28,
      "outputs": [
        {
          "output_type": "execute_result",
          "data": {
            "text/plain": [
              "(886, 10)"
            ]
          },
          "metadata": {},
          "execution_count": 28
        }
      ]
    },
    {
      "cell_type": "markdown",
      "metadata": {
        "id": "zgeyqTcYSzXU"
      },
      "source": [
        "Correlation Matrix"
      ]
    },
    {
      "cell_type": "code",
      "metadata": {
        "colab": {
          "base_uri": "https://localhost:8080/"
        },
        "id": "3flQmXdbSzcU",
        "outputId": "4270615d-5173-4cd1-ef5a-e45972ae1ee6"
      },
      "source": [
        "correlation_matrix = np.corrcoef(decomposed_matrix)\n",
        "correlation_matrix.shape"
      ],
      "execution_count": 29,
      "outputs": [
        {
          "output_type": "execute_result",
          "data": {
            "text/plain": [
              "(886, 886)"
            ]
          },
          "metadata": {},
          "execution_count": 29
        }
      ]
    },
    {
      "cell_type": "markdown",
      "metadata": {
        "id": "yUnQRAjwTIOd"
      },
      "source": [
        "Isolating Product ID # 6117036094 from the Correlation Matrix (random)"
      ]
    },
    {
      "cell_type": "code",
      "metadata": {
        "colab": {
          "base_uri": "https://localhost:8080/"
        },
        "id": "eJRCFxLRTKPV",
        "outputId": "cbedb619-1533-4c43-e64a-34b01bd86aa8"
      },
      "source": [
        "i = \"6117036094\"\n",
        "\n",
        "product_names = list(X.index)\n",
        "product_ID = product_names.index(i)\n",
        "product_ID"
      ],
      "execution_count": 30,
      "outputs": [
        {
          "output_type": "execute_result",
          "data": {
            "text/plain": [
              "99"
            ]
          },
          "metadata": {},
          "execution_count": 30
        }
      ]
    },
    {
      "cell_type": "markdown",
      "metadata": {
        "id": "VgRJKNICTMw-"
      },
      "source": [
        "Correlation for all items with the item purchased by this customer based on items rated by other customers people who bought the same product"
      ]
    },
    {
      "cell_type": "code",
      "metadata": {
        "colab": {
          "base_uri": "https://localhost:8080/"
        },
        "id": "cfbypqQZTM5Q",
        "outputId": "bf779d56-f099-4978-b069-ae8ca71238ec"
      },
      "source": [
        "correlation_product_ID = correlation_matrix[product_ID]\n",
        "correlation_product_ID.shape"
      ],
      "execution_count": 31,
      "outputs": [
        {
          "output_type": "execute_result",
          "data": {
            "text/plain": [
              "(886,)"
            ]
          },
          "metadata": {},
          "execution_count": 31
        }
      ]
    },
    {
      "cell_type": "markdown",
      "metadata": {
        "id": "UsMNJ5GeTdmz"
      },
      "source": [
        "Recommending top 10 highly correlated products in sequence"
      ]
    },
    {
      "cell_type": "code",
      "metadata": {
        "colab": {
          "base_uri": "https://localhost:8080/"
        },
        "id": "ltpYTrV_Tdq5",
        "outputId": "07089cc6-6d45-42c1-ede7-e3aaa2696e62"
      },
      "source": [
        "Recommend = list(X.index[correlation_product_ID > 0.90])\n",
        "\n",
        "# Removes the item already bought by the customer\n",
        "Recommend.remove(i) \n",
        "\n",
        "Recommend[0:9]"
      ],
      "execution_count": 32,
      "outputs": [
        {
          "output_type": "execute_result",
          "data": {
            "text/plain": [
              "['1304139212',\n",
              " '1304139220',\n",
              " '130414643X',\n",
              " '130414674X',\n",
              " '1304174778',\n",
              " '1304174867',\n",
              " '1304174905',\n",
              " '1304196046',\n",
              " '1304196062']"
            ]
          },
          "metadata": {},
          "execution_count": 32
        }
      ]
    },
    {
      "cell_type": "markdown",
      "metadata": {
        "id": "ltUlVGWkTkRj"
      },
      "source": [
        "Product Id # Here are the top 10 products to be displayed by the recommendation system to the above customer based on the purchase history of other customers in the website."
      ]
    },
    {
      "cell_type": "markdown",
      "metadata": {
        "id": "egsJRQlqYO-s"
      },
      "source": [
        "###Recommendation System Part 2:\n",
        "\n",
        "For a business without any user-item purchase history, a search engine based recommendation system can be designed for users. The product recommendations can be based on textual clustering analysis given in product description."
      ]
    },
    {
      "cell_type": "markdown",
      "metadata": {
        "id": "mfLIelM2d6DF"
      },
      "source": [
        "Item to item based recommendation system based on product description\n",
        "Applicable when business is setting up its E-commerce website for the first time"
      ]
    },
    {
      "cell_type": "code",
      "metadata": {
        "id": "10hU4gqaTmj7",
        "colab": {
          "base_uri": "https://localhost:8080/"
        },
        "outputId": "4fb04e57-7b2d-4932-cd82-36029fe3e742"
      },
      "source": [
        "product_descriptions = pd.read_csv('./data/product_descriptions.csv')\n",
        "product_descriptions.shape"
      ],
      "execution_count": 33,
      "outputs": [
        {
          "output_type": "execute_result",
          "data": {
            "text/plain": [
              "(124428, 2)"
            ]
          },
          "metadata": {},
          "execution_count": 33
        }
      ]
    },
    {
      "cell_type": "markdown",
      "metadata": {
        "id": "KVpKXlKyeV0P"
      },
      "source": [
        "Checking for missing values"
      ]
    },
    {
      "cell_type": "code",
      "metadata": {
        "colab": {
          "base_uri": "https://localhost:8080/",
          "height": 206
        },
        "id": "2YEmGQ7CeYA0",
        "outputId": "d64fa1b1-0715-49e3-dd85-064469d5857c"
      },
      "source": [
        "product_descriptions = product_descriptions.dropna()\n",
        "product_descriptions.shape\n",
        "product_descriptions.head()"
      ],
      "execution_count": 34,
      "outputs": [
        {
          "output_type": "execute_result",
          "data": {
            "text/html": [
              "<div>\n",
              "<style scoped>\n",
              "    .dataframe tbody tr th:only-of-type {\n",
              "        vertical-align: middle;\n",
              "    }\n",
              "\n",
              "    .dataframe tbody tr th {\n",
              "        vertical-align: top;\n",
              "    }\n",
              "\n",
              "    .dataframe thead th {\n",
              "        text-align: right;\n",
              "    }\n",
              "</style>\n",
              "<table border=\"1\" class=\"dataframe\">\n",
              "  <thead>\n",
              "    <tr style=\"text-align: right;\">\n",
              "      <th></th>\n",
              "      <th>product_uid</th>\n",
              "      <th>product_description</th>\n",
              "    </tr>\n",
              "  </thead>\n",
              "  <tbody>\n",
              "    <tr>\n",
              "      <th>0</th>\n",
              "      <td>100001</td>\n",
              "      <td>Not only do angles make joints stronger, they ...</td>\n",
              "    </tr>\n",
              "    <tr>\n",
              "      <th>1</th>\n",
              "      <td>100002</td>\n",
              "      <td>BEHR Premium Textured DECKOVER is an innovativ...</td>\n",
              "    </tr>\n",
              "    <tr>\n",
              "      <th>2</th>\n",
              "      <td>100003</td>\n",
              "      <td>Classic architecture meets contemporary design...</td>\n",
              "    </tr>\n",
              "    <tr>\n",
              "      <th>3</th>\n",
              "      <td>100004</td>\n",
              "      <td>The Grape Solar 265-Watt Polycrystalline PV So...</td>\n",
              "    </tr>\n",
              "    <tr>\n",
              "      <th>4</th>\n",
              "      <td>100005</td>\n",
              "      <td>Update your bathroom with the Delta Vero Singl...</td>\n",
              "    </tr>\n",
              "  </tbody>\n",
              "</table>\n",
              "</div>"
            ],
            "text/plain": [
              "   product_uid                                product_description\n",
              "0       100001  Not only do angles make joints stronger, they ...\n",
              "1       100002  BEHR Premium Textured DECKOVER is an innovativ...\n",
              "2       100003  Classic architecture meets contemporary design...\n",
              "3       100004  The Grape Solar 265-Watt Polycrystalline PV So...\n",
              "4       100005  Update your bathroom with the Delta Vero Singl..."
            ]
          },
          "metadata": {},
          "execution_count": 34
        }
      ]
    },
    {
      "cell_type": "markdown",
      "metadata": {
        "id": "OOv22_n2eZ88"
      },
      "source": [
        "Product descriptions"
      ]
    },
    {
      "cell_type": "code",
      "metadata": {
        "colab": {
          "base_uri": "https://localhost:8080/"
        },
        "id": "dvgt63YHeaDb",
        "outputId": "3806b3fb-addd-4ed0-ac56-f7f38cad4ae5"
      },
      "source": [
        "product_descriptions1 = product_descriptions.head(500)\n",
        "# product_descriptions1.iloc[:,1]\n",
        "\n",
        "product_descriptions1[\"product_description\"].head(10)"
      ],
      "execution_count": 35,
      "outputs": [
        {
          "output_type": "execute_result",
          "data": {
            "text/plain": [
              "0    Not only do angles make joints stronger, they ...\n",
              "1    BEHR Premium Textured DECKOVER is an innovativ...\n",
              "2    Classic architecture meets contemporary design...\n",
              "3    The Grape Solar 265-Watt Polycrystalline PV So...\n",
              "4    Update your bathroom with the Delta Vero Singl...\n",
              "5    Achieving delicious results is almost effortle...\n",
              "6    The Quantum Adjustable 2-Light LED Black Emerg...\n",
              "7    The Teks #10 x 1-1/2 in. Zinc-Plated Steel Was...\n",
              "8    Get the House of Fara 3/4 in. x 3 in. x 8 ft. ...\n",
              "9    Valley View Industries Metal Stakes (4-Pack) a...\n",
              "Name: product_description, dtype: object"
            ]
          },
          "metadata": {},
          "execution_count": 35
        }
      ]
    },
    {
      "cell_type": "markdown",
      "metadata": {
        "id": "Vsfbj1Fxegwp"
      },
      "source": [
        "Feature extraction from product descriptions\n",
        "Converting the text in product description into numerical data for analysis"
      ]
    },
    {
      "cell_type": "code",
      "metadata": {
        "colab": {
          "base_uri": "https://localhost:8080/"
        },
        "id": "yhHXb_y7ehth",
        "outputId": "f36c5b49-6d7b-41ca-9a4b-1a429cfb88eb"
      },
      "source": [
        "vectorizer = TfidfVectorizer(stop_words='english')\n",
        "X1 = vectorizer.fit_transform(product_descriptions1[\"product_description\"])\n",
        "X1"
      ],
      "execution_count": 36,
      "outputs": [
        {
          "output_type": "execute_result",
          "data": {
            "text/plain": [
              "<500x8932 sparse matrix of type '<class 'numpy.float64'>'\n",
              "\twith 34817 stored elements in Compressed Sparse Row format>"
            ]
          },
          "metadata": {},
          "execution_count": 36
        }
      ]
    },
    {
      "cell_type": "markdown",
      "metadata": {
        "id": "kOdwk4-GemP6"
      },
      "source": [
        "Visualizing product clusters in subset of data"
      ]
    },
    {
      "cell_type": "code",
      "metadata": {
        "colab": {
          "base_uri": "https://localhost:8080/",
          "height": 265
        },
        "id": "UbNcjz-zeoCI",
        "outputId": "1faba8f1-5e33-4174-ef71-f7d42cc79171"
      },
      "source": [
        "# Fitting K-Means to the dataset\n",
        "\n",
        "X=X1\n",
        "\n",
        "kmeans = KMeans(n_clusters = 10, init = 'k-means++')\n",
        "y_kmeans = kmeans.fit_predict(X)\n",
        "plt.plot(y_kmeans, \".\")\n",
        "plt.show()"
      ],
      "execution_count": 37,
      "outputs": [
        {
          "output_type": "display_data",
          "data": {
            "image/png": "[encoded data removed]",
            "text/plain": [
              "<Figure size 432x288 with 1 Axes>"
            ]
          },
          "metadata": {}
        }
      ]
    },
    {
      "cell_type": "code",
      "metadata": {
        "id": "VrLZJxSXfL9C"
      },
      "source": [
        "def print_cluster(i):\n",
        "    print(\"Cluster %d:\" % i),\n",
        "    for ind in order_centroids[i, :10]:\n",
        "        print(' %s' % terms[ind]),\n",
        "    print"
      ],
      "execution_count": 38,
      "outputs": []
    },
    {
      "cell_type": "markdown",
      "metadata": {
        "id": "qXccA5GMfMwW"
      },
      "source": [
        "Output\n",
        "Recommendation of product based on the current product selected by user.\n",
        "To recommend related product based on, Frequently bought together."
      ]
    },
    {
      "cell_type": "markdown",
      "metadata": {
        "id": "zXadWX0tfRvM"
      },
      "source": [
        "Top words in each cluster based on product description"
      ]
    },
    {
      "cell_type": "code",
      "metadata": {
        "colab": {
          "base_uri": "https://localhost:8080/"
        },
        "id": "4iksAo24fMCy",
        "outputId": "7aef4372-8fe6-46ff-c319-028bcdb8fe11"
      },
      "source": [
        "# # Optimal clusters is \n",
        "\n",
        "true_k = 10\n",
        "\n",
        "model = KMeans(n_clusters=true_k, init='k-means++', max_iter=100, n_init=1)\n",
        "model.fit(X1)\n",
        "\n",
        "print(\"Top terms per cluster:\")\n",
        "order_centroids = model.cluster_centers_.argsort()[:, ::-1]\n",
        "terms = vectorizer.get_feature_names()\n",
        "for i in range(true_k):\n",
        "    print_cluster(i)"
      ],
      "execution_count": 39,
      "outputs": [
        {
          "output_type": "stream",
          "name": "stdout",
          "text": [
            "Top terms per cluster:\n",
            "Cluster 0:\n",
            " tool\n",
            " metal\n",
            " 20\n",
            " volt\n",
            " power\n",
            " drill\n",
            " impact\n",
            " concrete\n",
            " use\n",
            " gauge\n",
            "Cluster 1:\n",
            " water\n",
            " easy\n",
            " design\n",
            " spray\n",
            " helps\n",
            " stainless\n",
            " faucet\n",
            " tank\n",
            " steel\n",
            " handle\n",
            "Cluster 2:\n",
            " cutting\n",
            " saw\n",
            " blade\n",
            " tree\n",
            " steel\n",
            " pruner\n",
            " easy\n",
            " tooth\n",
            " pole\n",
            " blades\n",
            "Cluster 3:\n",
            " wall\n",
            " piece\n",
            " finish\n",
            " color\n",
            " tile\n",
            " ft\n",
            " recommended\n",
            " resistant\n",
            " outdoor\n",
            " design\n",
            "Cluster 4:\n",
            " post\n",
            " wood\n",
            " 100\n",
            " cedar\n",
            " ft\n",
            " red\n",
            " outdoor\n",
            " dog\n",
            " recycled\n",
            " decks\n",
            "Cluster 5:\n",
            " air\n",
            " power\n",
            " ft\n",
            " light\n",
            " fan\n",
            " control\n",
            " cooling\n",
            " installation\n",
            " cooking\n",
            " window\n",
            "Cluster 6:\n",
            " storage\n",
            " shelves\n",
            " cabinet\n",
            " adjustable\n",
            " shelf\n",
            " room\n",
            " metal\n",
            " finish\n",
            " 32\n",
            " nickel\n",
            "Cluster 7:\n",
            " insulation\n",
            " bamboo\n",
            " galvanized\n",
            " quality\n",
            " steel\n",
            " outdoor\n",
            " home\n",
            " products\n",
            " glass\n",
            " ecotouch\n",
            "Cluster 8:\n",
            " ladder\n",
            " aluminum\n",
            " attic\n",
            " frame\n",
            " easy\n",
            " lb\n",
            " ft\n",
            " screen\n",
            " window\n",
            " cover\n",
            "Cluster 9:\n",
            " door\n",
            " wood\n",
            " double\n",
            " proposition\n",
            " nbsp\n",
            " residents\n",
            " california\n",
            " 65\n",
            " painted\n",
            " core\n"
          ]
        }
      ]
    },
    {
      "cell_type": "markdown",
      "metadata": {
        "id": "wjF62ZJWfZal"
      },
      "source": [
        "Predicting clusters based on key search words"
      ]
    },
    {
      "cell_type": "code",
      "metadata": {
        "id": "gzT06i1ifZ2w"
      },
      "source": [
        "def show_recommendations(product):\n",
        "    #print(\"Cluster ID:\")\n",
        "    Y = vectorizer.transform([product])\n",
        "    prediction = model.predict(Y)\n",
        "    #print(prediction)\n",
        "    print_cluster(prediction[0])"
      ],
      "execution_count": 40,
      "outputs": []
    },
    {
      "cell_type": "markdown",
      "metadata": {
        "id": "ECkN6cb4fdcj"
      },
      "source": [
        "Keyword : cutting tool"
      ]
    },
    {
      "cell_type": "code",
      "metadata": {
        "colab": {
          "base_uri": "https://localhost:8080/"
        },
        "id": "iAqec1SJfdn5",
        "outputId": "8f88c59f-0b1a-414d-ee56-5ef214bef3e1"
      },
      "source": [
        "show_recommendations(\"cutting tool\")"
      ],
      "execution_count": 41,
      "outputs": [
        {
          "output_type": "stream",
          "name": "stdout",
          "text": [
            "Cluster 2:\n",
            " cutting\n",
            " saw\n",
            " blade\n",
            " tree\n",
            " steel\n",
            " pruner\n",
            " easy\n",
            " tooth\n",
            " pole\n",
            " blades\n"
          ]
        }
      ]
    },
    {
      "cell_type": "markdown",
      "metadata": {
        "id": "MsVzLwNcfhEr"
      },
      "source": [
        "Keyword : spray paint"
      ]
    },
    {
      "cell_type": "code",
      "metadata": {
        "colab": {
          "base_uri": "https://localhost:8080/"
        },
        "id": "M0St3BDqfhjO",
        "outputId": "ee37f324-678d-4864-b7d6-c4c9e7734bbc"
      },
      "source": [
        "show_recommendations(\"spray paint\")"
      ],
      "execution_count": 42,
      "outputs": [
        {
          "output_type": "stream",
          "name": "stdout",
          "text": [
            "Cluster 1:\n",
            " water\n",
            " easy\n",
            " design\n",
            " spray\n",
            " helps\n",
            " stainless\n",
            " faucet\n",
            " tank\n",
            " steel\n",
            " handle\n"
          ]
        }
      ]
    },
    {
      "cell_type": "markdown",
      "metadata": {
        "id": "AAmHAvyIfl52"
      },
      "source": [
        "In case a word appears in multiple clusters, the algorithm chooses the cluster with the highest frequency of occurance of the word."
      ]
    },
    {
      "cell_type": "code",
      "metadata": {
        "colab": {
          "base_uri": "https://localhost:8080/"
        },
        "id": "FW17QYuvfl-S",
        "outputId": "1c390347-b6ef-43b2-8e21-a43fbba03c4c"
      },
      "source": [
        "show_recommendations(\"water\")"
      ],
      "execution_count": 43,
      "outputs": [
        {
          "output_type": "stream",
          "name": "stdout",
          "text": [
            "Cluster 1:\n",
            " water\n",
            " easy\n",
            " design\n",
            " spray\n",
            " helps\n",
            " stainless\n",
            " faucet\n",
            " tank\n",
            " steel\n",
            " handle\n"
          ]
        }
      ]
    }
  ]
}